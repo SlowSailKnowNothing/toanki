{
 "cells": [
  {
   "cell_type": "code",
   "execution_count": 1,
   "metadata": {},
   "outputs": [],
   "source": [
    "with open('测试方法和流程拆分出的内容.html', 'r', encoding = 'utf-8') as f:\n",
    "    html = f.read()"
   ]
  },
  {
   "cell_type": "code",
   "execution_count": 2,
   "metadata": {},
   "outputs": [],
   "source": [
    "from lxml import etree"
   ]
  },
  {
   "cell_type": "code",
   "execution_count": 3,
   "metadata": {},
   "outputs": [],
   "source": [
    "import unittest"
   ]
  },
  {
   "cell_type": "code",
   "execution_count": 4,
   "metadata": {},
   "outputs": [],
   "source": [
    "html = etree.HTML(html)"
   ]
  },
  {
   "cell_type": "markdown",
   "metadata": {},
   "source": [
    "结构：(主题,内容)\n",
    "如果没有内容，主题的图片作为内容\n",
    "如果内容中有图片，图片作为内容的一部分"
   ]
  },
  {
   "cell_type": "code",
   "execution_count": 5,
   "metadata": {},
   "outputs": [],
   "source": [
    "class qa():\n",
    "    def __init__(self,obj):\n",
    "        self.obj = obj\n",
    "        self.pre = ''\n",
    "        if not self.have_children() and not self.have_title_img():\n",
    "            return False\n",
    "        \n",
    "    def get_obj(self):\n",
    "        return self.obj\n",
    "    \n",
    "    def get_pre(self, node):\n",
    "        data = node.xpath('../../../span');\n",
    "        if data:\n",
    "            return data.xpath('./@color')\n",
    "        return False\n",
    "    \n",
    "    def make_pre(self):\n",
    "        this_node = self.obj\n",
    "        while this_node.xpath('../../../span/@color') == [\"#3da8f5\"]:\n",
    "            if self.pre == '':\n",
    "                tg =''\n",
    "            else:\n",
    "                tg = '/'\n",
    "            self.pre = this_node.xpath('../../../span/text()')[0]+tg+self.pre\n",
    "            this_node = this_node.xpath('../../../span')[0]\n",
    "        if self.pre != '':\n",
    "            return('[{}]'.format(self.pre))\n",
    "        return ''\n",
    "    \n",
    "    def img_handle(self, img):\n",
    "        if img:\n",
    "            return [img[0].replace('https','http')][0]\n",
    "        return []\n",
    "#     img[0].replace('https','http')\n",
    "    \n",
    "    def have_children(self):\n",
    "        return len(self.obj.xpath('../ul'))\n",
    "    \n",
    "    def have_title_img(self):\n",
    "        return len(self.get_title_img())\n",
    "    \n",
    "    def get_img(self, obj):\n",
    "        return self.img_handle(obj.xpath('../div/img/@src'))\n",
    "    \n",
    "    def get_title_img(self):\n",
    "        return self.get_img(self.obj)\n",
    "    \n",
    "    def title(self):\n",
    "        if self.have_children():\n",
    "            if self.get_title_img():\n",
    "                return '<p>{}</p><img src={} />'.format(self.obj.xpath('./text()')[0].replace(' ',''), self.get_title_img()[0])\n",
    "            else:\n",
    "                return '<p>{}</p>'.format(self.obj.xpath('./text()')[0].replace(' ',''))\n",
    "        my_data = self.obj.xpath('./text()')\n",
    "        return '<p>{}</p>'.format(my_data[0].replace(' ',''))\n",
    "    def tag(self):\n",
    "        return self.obj\n",
    "    def detail(self):\n",
    "        if not self.have_children():\n",
    "            return '<img src={} />'.format(self.get_title_img())\n",
    "        img = self.get_title_img()\n",
    "        detail_text = self.obj.xpath('../ul/li/span/text()')\n",
    "        if img:\n",
    "            return('<p>{}</p><img src={} />'.format(detail_text, img))\n",
    "        else:\n",
    "            text = '</p><p>'.join(detail_text)\n",
    "            return('<p>{}</p>'.format(text))"
   ]
  },
  {
   "cell_type": "markdown",
   "metadata": {},
   "source": [
    "获取标题作为标记"
   ]
  },
  {
   "cell_type": "code",
   "execution_count": 6,
   "metadata": {},
   "outputs": [
    {
     "name": "stdout",
     "output_type": "stream",
     "text": [
      "测试方法和流程拆分出的内容 知识点\n"
     ]
    }
   ],
   "source": [
    "tag = '{}知识点'.format(html.xpath('//title/text()')[0].replace(' - 幕布',\"\"))\n",
    "print(tag)"
   ]
  },
  {
   "cell_type": "code",
   "execution_count": 7,
   "metadata": {},
   "outputs": [
    {
     "name": "stdout",
     "output_type": "stream",
     "text": [
      "[<Element span at 0x216268fa288>, <Element span at 0x216268fa648>, <Element span at 0x216268fc748>, <Element span at 0x216268fcfc8>, <Element span at 0x216268fccc8>, <Element span at 0x216268fcf88>, <Element span at 0x216268e5b08>, <Element span at 0x216268e53c8>, <Element span at 0x216268e5ac8>, <Element span at 0x216268fc8c8>, <Element span at 0x216268e5cc8>, <Element span at 0x216268e5bc8>, <Element span at 0x216268e5a08>, <Element span at 0x216268e5d48>, <Element span at 0x216268e5248>, <Element span at 0x216268e5c88>, <Element span at 0x216268e5c48>, <Element span at 0x216268e5388>, <Element span at 0x21626901888>, <Element span at 0x21626901848>, <Element span at 0x21626901788>, <Element span at 0x21626901dc8>, <Element span at 0x21626901548>, <Element span at 0x21626901188>]\n"
     ]
    }
   ],
   "source": [
    "datas = html.xpath('//span[@color=\"#3da8f5\"]')\n",
    "print(datas)"
   ]
  },
  {
   "cell_type": "code",
   "execution_count": 8,
   "metadata": {},
   "outputs": [],
   "source": [
    "out_datas = [(qa(data).title(), qa(data).detail(),qa(data).make_pre()) for data in datas]"
   ]
  },
  {
   "cell_type": "code",
   "execution_count": 9,
   "metadata": {},
   "outputs": [],
   "source": [
    "str = ''"
   ]
  },
  {
   "cell_type": "code",
   "execution_count": 10,
   "metadata": {},
   "outputs": [],
   "source": [
    "# tag = 'concurrent.futures知识点'"
   ]
  },
  {
   "cell_type": "code",
   "execution_count": 11,
   "metadata": {},
   "outputs": [],
   "source": [
    "for i in out_datas:\n",
    "    str += '<p>[{}]{}</p> {}\\t[{}]{} {}\\n'.format(tag,i[2], i[0],tag,i[2],i[1])"
   ]
  },
  {
   "cell_type": "code",
   "execution_count": 12,
   "metadata": {},
   "outputs": [
    {
     "name": "stdout",
     "output_type": "stream",
     "text": [
      "<p>[测试方法和流程拆分出的内容 知识点]</p> <p>因果图法说明</p>\t[测试方法和流程拆分出的内容 知识点] <p>1、因：输入条件</p><p>2、果：输出结果</p><p>3、以画图的方式来表示输入条件和输出结果之间的关系</p>\n",
      "<p>[测试方法和流程拆分出的内容 知识点]</p> <p>因果图法中的图形符号（掌握）</p>\t[测试方法和流程拆分出的内容 知识点] <p>1、基本图形符号</p><p>2、限制图形符号</p>\n",
      "<p>[测试方法和流程拆分出的内容 知识点]</p> <p>因果图法中的图形符号（掌握）--基本图形符号</p>\t[测试方法和流程拆分出的内容 知识点] <p>表示因与果之间的关系（因—果）</p><p>a、恒等</p><p>b、非</p><p>c、与</p><p>d、或</p>\n",
      "<p>[测试方法和流程拆分出的内容 知识点]</p> <p>因果图法中的图形符号（掌握）detail限制图形符号</p>\t[测试方法和流程拆分出的内容 知识点] <p>表示要么因之间，要么果之间的限制关系（单方面）</p><p>1 互斥（E-exclude）：只能有一个或者没有</p><p>2 唯一（O-only）：有且只能有一个</p><p>3、包含（I-include）必须一个或者多个</p><p>4、要求（R-required）a的值决定b的值，反之b的值对a没有约束</p><p>5、屏蔽（M-masked）a如果a的值为1，b的值为0，a的值为0，b的值可以是1,也可以是0(if(a){b=0;return(b)}else{returnb})</p>\n",
      "<p>[测试方法和流程拆分出的内容 知识点]</p> <p>判定表的特点3个无关紧要，1个互补影响</p>\t[测试方法和流程拆分出的内容 知识点] <p>输入条件的顺序无关紧要</p><p>输出结果的顺序无关紧要</p><p>先测哪个组合（列），后测哪个组合无关紧要</p><p>每个组合都是相互独立的，互不影响。</p>\n",
      "<p>[测试方法和流程拆分出的内容 知识点]</p> <p>判定表的组成部分</p>\t[测试方法和流程拆分出的内容 知识点] <p>1、条件桩</p><p>2、动作桩</p><p>3、条件项</p><p>4、动作项</p>\n",
      "<p>[测试方法和流程拆分出的内容 知识点]</p> <p>正交表的公式</p>\t[测试方法和流程拆分出的内容 知识点] <p>L：line 行</p><p>n：行数（无需计算）</p><p>m：每列的最大值</p><p>k：列数</p>\n",
      "<p>[测试方法和流程拆分出的内容 知识点]</p> <p>测试步骤--挑选合适的正交表</p>\t[测试方法和流程拆分出的内容 知识点] <p>确定m值和k值</p><p>M值：控件的取值个数</p><p>K值：控件个数</p>\n",
      "<p>[测试方法和流程拆分出的内容 知识点]</p> <p>测试步骤--应用正交表（映射）</p>\t[测试方法和流程拆分出的内容 知识点] <p>1、控件名—正交表因子（列标题）</p><p>2、控件取值—正交表对应列的状态（数值）</p>\n",
      "<p>[测试方法和流程拆分出的内容 知识点]</p> <p>如何解决没有合适的正交表？--k值不合适</p>\t[测试方法和流程拆分出的内容 知识点] <p>挑选最接近的而且要大一点的k值，将用不到的列删除</p><p>m值不合适</p><p>m值不合适--最大值</p><p>m值不合适--少数服从多数</p><p>正交方法总结</p><p>测试人员要将自己想象成最终用户，模拟用户在使用软件时的各种情景，通常模拟两类情景：</p><p>场景法使用的思路</p><p>场景法主要基于两个因素title</p>\n",
      "<p>[测试方法和流程拆分出的内容 知识点][如何解决没有合适的正交表？--k值不合适]</p> <p>m值不合适</p>\t[测试方法和流程拆分出的内容 知识点][如何解决没有合适的正交表？--k值不合适] <p>1、最大值</p><p>2、少数服从多数</p>\n",
      "<p>[测试方法和流程拆分出的内容 知识点][如何解决没有合适的正交表？--k值不合适]</p> <p>m值不合适--最大值</p>\t[测试方法和流程拆分出的内容 知识点][如何解决没有合适的正交表？--k值不合适] <p>选m值最大的</p><p>注意：</p>\n",
      "<p>[测试方法和流程拆分出的内容 知识点][如何解决没有合适的正交表？--k值不合适]</p> <p>m值不合适--少数服从多数</p>\t[测试方法和流程拆分出的内容 知识点][如何解决没有合适的正交表？--k值不合适] <p>选相同M值最多的</p><p>分析：k=4</p><p>M=3 （最多）</p><p>选3的4次幂正交表</p>\n",
      "<p>[测试方法和流程拆分出的内容 知识点][如何解决没有合适的正交表？--k值不合适]</p> <p>正交方法总结</p>\t[测试方法和流程拆分出的内容 知识点][如何解决没有合适的正交表？--k值不合适] <p>1、如果有多余的列，删除掉即可</p><p>2、先将能映射的映射好</p><p>3、如果出现多出的机会，要尽量均匀的分配给该列的取值</p><p>检查是否有相同的行，如果有要适当处理</p><p>最优先挑选正合适的正交表，如果没有正合适的再用其他方案解决。</p>\n",
      "<p>[测试方法和流程拆分出的内容 知识点][如何解决没有合适的正交表？--k值不合适]</p> <p>测试人员要将自己想象成最终用户，模拟用户在使用软件时的各种情景，通常模拟两类情景：</p>\t[测试方法和流程拆分出的内容 知识点][如何解决没有合适的正交表？--k值不合适] <p>1、正确的业务操作过程—验证软件的功能是否正确</p><p>2、错误的操作场景—验证软件的异常处理能力（健壮性）</p>\n",
      "<p>[测试方法和流程拆分出的内容 知识点][如何解决没有合适的正交表？--k值不合适]</p> <p>场景法使用的思路</p>\t[测试方法和流程拆分出的内容 知识点][如何解决没有合适的正交表？--k值不合适] <p>场景法经常用于测试软件的业务流程和业务逻辑，当接到测试任务时，我们应该首先利用场景法测试程序的核心功能和主要业务是否正确，当核心功能和主要业务过程没有问题时，再展开对一些细节（如数据输入、组合等），利用等价类,边界值，判定表等方法进行测试。（先整体后细节）</p>\n",
      "<p>[测试方法和流程拆分出的内容 知识点][如何解决没有合适的正交表？--k值不合适]</p> <p>场景法主要基于两个因素title</p>\t[测试方法和流程拆分出的内容 知识点][如何解决没有合适的正交表？--k值不合适] <p>1、业务层面（更为重要）</p><p>2、技术层面</p>\n",
      "<p>[测试方法和流程拆分出的内容 知识点]</p> <p>场景法主要基于两个因素--业务层面detail</p>\t[测试方法和流程拆分出的内容 知识点] <p>要求测试人员要非常熟悉被测系统的业务，最好能成为所测系统的业务上的“专家”</p>\n",
      "<p>[测试方法和流程拆分出的内容 知识点]</p> <p>场景法主要基于两个因素--技术层面detail</p>\t[测试方法和流程拆分出的内容 知识点] <p>1、基本流：也叫正确流或有效流，模拟用户正确的业务操作过程。</p><p>2、备选流：也叫错误流或无效流，模拟用户错误的业务操作过程。</p>\n",
      "<p>[测试方法和流程拆分出的内容 知识点]</p> <p>黑盒测试</p>\t[测试方法和流程拆分出的内容 知识点] <p>也叫功能测试，是不关注软件的内部结构，只知道输入数据和输出结果的功能测试过程。</p>\n",
      "<p>[测试方法和流程拆分出的内容 知识点]</p> <p>灰盒测试</p>\t[测试方法和流程拆分出的内容 知识点] <p>把黑盒测试和白盒测试的要素结合起来进行测试的测试方法。</p><p>通常先通过黑盒测试发现bug，再进一步通过白盒测试对bug进行调查。灰盒测试常用于集成测试阶段。</p>\n",
      "<p>[测试方法和流程拆分出的内容 知识点]</p> <p>动态测试</p>\t[测试方法和流程拆分出的内容 知识点] <p>通过运行被测程序来检查运行结果与预期结果的差异，并分析运行效率和健壮性等指标；这种方法包括三部分：构造测试用例、执行程序、分析程序的输出结果</p>\n",
      "<p>[测试方法和流程拆分出的内容 知识点]</p> <p>功能测试说明</p>\t[测试方法和流程拆分出的内容 知识点] <p>所有的软件都要做功能测试，保证功能实现。</p><p>功能测试既可以手工功能测试又可以有自动化功能测试</p>\n",
      "<p>[测试方法和流程拆分出的内容 知识点]</p> <p>随机测试(猴子测试)</p>\t[测试方法和流程拆分出的内容 知识点] <p>就是对软件进行随意测试的测试方式，应该是常规测试用例测试完成后，在时间允许的前提下，做的一种补充测试</p>\n",
      "\n"
     ]
    }
   ],
   "source": [
    "print(str)"
   ]
  },
  {
   "cell_type": "code",
   "execution_count": 13,
   "metadata": {},
   "outputs": [],
   "source": [
    "with open('./anki_test.txt', 'w', encoding = 'utf-8') as f:\n",
    "    f.write(str)"
   ]
  },
  {
   "cell_type": "raw",
   "metadata": {},
   "source": []
  },
  {
   "cell_type": "code",
   "execution_count": null,
   "metadata": {},
   "outputs": [],
   "source": [
    ""
   ]
  }
 ],
 "metadata": {
  "kernelspec": {
   "display_name": "Python 3",
   "language": "python",
   "name": "python3"
  },
  "language_info": {
   "codemirror_mode": {
    "name": "ipython",
    "version": 3.0
   },
   "file_extension": ".py",
   "mimetype": "text/x-python",
   "name": "python",
   "nbconvert_exporter": "python",
   "pygments_lexer": "ipython3",
   "version": "3.7.3"
  }
 },
 "nbformat": 4,
 "nbformat_minor": 0
}